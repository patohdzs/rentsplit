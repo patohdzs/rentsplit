{
  "cells": [
    {
      "cell_type": "markdown",
      "metadata": {},
      "source": [
        "# Rent division"
      ]
    },
    {
      "cell_type": "code",
      "execution_count": 1,
      "metadata": {},
      "outputs": [],
      "source": [
        "import numpy as np\n",
        "import pandas as pd\n",
        "from string import ascii_uppercase\n",
        "\n",
        "from properties import is_envy_free\n",
        "from assignment import compute_efficient_assignments\n",
        "from pricing import compute_auction_prices"
      ]
    },
    {
      "cell_type": "markdown",
      "metadata": {},
      "source": [
        "## Problem inputs"
      ]
    },
    {
      "cell_type": "code",
      "execution_count": 2,
      "metadata": {},
      "outputs": [],
      "source": [
        "R = 60\n",
        "V = np.array(\n",
        "    [\n",
        "        [15, 18, 10, 15, 24, 28],\n",
        "        [18, 25, 3, 18, 25, 15],\n",
        "        [6, 25, 15, 18, 18, 25],\n",
        "        [18, 5, 18, 12, 9, 25],\n",
        "        [6, 22, 5, 5, 10, 12],\n",
        "        [6, 9, 2, 21, 25, 9],\n",
        "    ]\n",
        ")"
      ]
    },
    {
      "cell_type": "markdown",
      "metadata": {},
      "source": [
        "## Pareto-efficient assignments"
      ]
    },
    {
      "cell_type": "code",
      "execution_count": 3,
      "metadata": {},
      "outputs": [
        {
          "data": {
            "text/plain": [
              "[(5, 0, 3, 2, 1, 4), (5, 4, 2, 0, 1, 3)]"
            ]
          },
          "execution_count": 3,
          "metadata": {},
          "output_type": "execute_result"
        }
      ],
      "source": [
        "pareto_assignments = compute_efficient_assignments(V)\n",
        "pareto_assignments"
      ]
    },
    {
      "cell_type": "markdown",
      "metadata": {},
      "source": [
        "## Auction pricing"
      ]
    },
    {
      "cell_type": "code",
      "execution_count": 4,
      "metadata": {},
      "outputs": [
        {
          "data": {
            "text/plain": [
              "array([ 5., 15.,  5.,  8., 12., 15.])"
            ]
          },
          "execution_count": 4,
          "metadata": {},
          "output_type": "execute_result"
        }
      ],
      "source": [
        "# Compute equilibrium allocation\n",
        "p = compute_auction_prices(V, R)\n",
        "p"
      ]
    },
    {
      "cell_type": "markdown",
      "metadata": {},
      "source": [
        "## Final allocations"
      ]
    },
    {
      "cell_type": "code",
      "execution_count": 5,
      "metadata": {},
      "outputs": [
        {
          "name": "stdout",
          "output_type": "stream",
          "text": [
            "          A    B    C    D     E     F\n",
            "room    5.0  0.0  3.0  2.0   1.0   4.0\n",
            "price  15.0  5.0  8.0  5.0  15.0  12.0\n",
            "\n",
            "          A     B    C    D     E    F\n",
            "room    5.0   4.0  2.0  0.0   1.0  3.0\n",
            "price  15.0  12.0  5.0  5.0  15.0  8.0\n",
            "\n"
          ]
        }
      ],
      "source": [
        "# Format allocation into results\n",
        "for mu in pareto_assignments:\n",
        "    names = {k: v for v, k in enumerate(ascii_uppercase[: V.shape[0]])}\n",
        "    rooms = {k: mu[i] for k, i in names.items()}\n",
        "    prices = {k: p[mu[i]] for k, i in names.items()}\n",
        "\n",
        "    # Display results\n",
        "    print(pd.DataFrame([rooms, prices], index=[\"room\", \"price\"]))\n",
        "    print(\"\")"
      ]
    },
    {
      "cell_type": "markdown",
      "metadata": {},
      "source": [
        "## Envy-free check"
      ]
    },
    {
      "cell_type": "code",
      "execution_count": 6,
      "metadata": {},
      "outputs": [
        {
          "name": "stdout",
          "output_type": "stream",
          "text": [
            "True\n",
            "True\n"
          ]
        }
      ],
      "source": [
        "for mu in pareto_assignments:\n",
        "    print(is_envy_free(mu, p, V, verbose=True))"
      ]
    }
  ],
  "metadata": {
    "kernelspec": {
      "display_name": "venv",
      "language": "python",
      "name": "python3"
    },
    "language_info": {
      "codemirror_mode": {
        "name": "ipython",
        "version": 3
      },
      "file_extension": ".py",
      "mimetype": "text/x-python",
      "name": "python",
      "nbconvert_exporter": "python",
      "pygments_lexer": "ipython3",
      "version": "3.10.8"
    },
    "orig_nbformat": 4
  },
  "nbformat": 4,
  "nbformat_minor": 2
}
